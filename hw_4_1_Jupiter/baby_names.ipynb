{
 "cells": [
  {
   "cell_type": "markdown",
   "metadata": {},
   "source": [
    "## Код для работы со статистикой имен новорожденных в США"
   ]
  },
  {
   "cell_type": "markdown",
   "metadata": {},
   "source": [
    "**Импортируем библиотеку pandas**"
   ]
  },
  {
   "cell_type": "code",
   "execution_count": 4,
   "metadata": {
    "collapsed": true
   },
   "outputs": [],
   "source": [
    "import pandas as pd"
   ]
  },
  {
   "cell_type": "code",
   "execution_count": 5,
   "metadata": {
    "collapsed": true
   },
   "outputs": [],
   "source": [
    "DATA_PATH = 'C:/Users/Data/names/'"
   ]
  },
  {
   "cell_type": "markdown",
   "metadata": {},
   "source": [
    "*Почему-то jupiter или anaconda плохо работают с не-Ascii символами, поэтому пришлось специально создавать папку с англоязычным названием*"
   ]
  },
  {
   "cell_type": "code",
   "execution_count": 6,
   "metadata": {
    "collapsed": true
   },
   "outputs": [],
   "source": [
    "def get_list_with_files_data(years_list):\n",
    "    cols = ['Name', 'Gender', 'Count']\n",
    "    return [pd.read_csv(\n",
    "            '{}yob{}.txt'.format(DATA_PATH, str(year)), names = cols) for year in years_list ]    \n",
    "    \n"
   ]
  },
  {
   "cell_type": "code",
   "execution_count": 15,
   "metadata": {
    "collapsed": true
   },
   "outputs": [],
   "source": [
    "def count_top3_names_in_file(years_list):\n",
    "    return [key for key in pd.concat(get_list_with_files_data(years_list))\\\n",
    "                        .groupby('Name').sum()\\\n",
    "                        .sort_values(by='Count', ascending=False)\\\n",
    "                        .head(3)\\\n",
    "                        .to_dict('dict')['Count']]"
   ]
  },
  {
   "cell_type": "markdown",
   "metadata": {},
   "source": [
    "**Выводим результат работы функции по нахождению 3 наиболее популярных имен во временном периоде в виде списка:**"
   ]
  },
  {
   "cell_type": "code",
   "execution_count": 17,
   "metadata": {},
   "outputs": [
    {
     "data": {
      "text/plain": [
       "['John', 'William', 'Mary']"
      ]
     },
     "execution_count": 17,
     "metadata": {},
     "output_type": "execute_result"
    }
   ],
   "source": [
    "count_top3_names_in_file([1880])"
   ]
  },
  {
   "cell_type": "code",
   "execution_count": 11,
   "metadata": {
    "collapsed": true
   },
   "outputs": [],
   "source": [
    "def get_dict_by_gender(dictionary):\n",
    "     return {'M': [dictionary[key] for key in dictionary if key[1] == 'M'],\n",
    "             'F': [dictionary[key] for key in dictionary if key[1] == 'F']}"
   ]
  },
  {
   "cell_type": "code",
   "execution_count": 12,
   "metadata": {
    "collapsed": true
   },
   "outputs": [],
   "source": [
    "def count_dynamics_of_names_in_file(years_list):\n",
    "    cols = ['Name', 'Gender', 'Count']\n",
    "    dict_gender_by_years = {}\n",
    "    for year in years_list:\n",
    "        dict_gender_by_years[year] = pd.read_csv('{}yob{}.txt'.format(DATA_PATH, str(year)), names = cols)\\\n",
    "                                    .groupby('Gender').sum()\n",
    "    \n",
    "    return get_dict_by_gender(pd.concat(dict_gender_by_years, names = ['Year', 'Gender'])\\\n",
    "                                    .to_dict('dict')['Count'])\n"
   ]
  },
  {
   "cell_type": "markdown",
   "metadata": {},
   "source": [
    "**Выводим результат работы функции по выводу динамики изменения количества имен за периоды**"
   ]
  },
  {
   "cell_type": "code",
   "execution_count": 14,
   "metadata": {
    "scrolled": true
   },
   "outputs": [
    {
     "data": {
      "text/plain": [
       "{'F': [299810, 1713259, 1814922], 'M': [150486, 1790871, 1962744]}"
      ]
     },
     "execution_count": 14,
     "metadata": {},
     "output_type": "execute_result"
    }
   ],
   "source": [
    "count_dynamics_of_names_in_file([1900, 1950, 2000])\n"
   ]
  },
  {
   "cell_type": "markdown",
   "metadata": {},
   "source": [
    "*Данные не сходятся с представленными в блокноте преподавателя. Проверил вручную через Excel получившиеся суммы с суммами в файлах. Все сошлось.*"
   ]
  },
  {
   "cell_type": "code",
   "execution_count": null,
   "metadata": {
    "collapsed": true
   },
   "outputs": [],
   "source": []
  }
 ],
 "metadata": {
  "kernelspec": {
   "display_name": "Python 3",
   "language": "python",
   "name": "python3"
  },
  "language_info": {
   "codemirror_mode": {
    "name": "ipython",
    "version": 3
   },
   "file_extension": ".py",
   "mimetype": "text/x-python",
   "name": "python",
   "nbconvert_exporter": "python",
   "pygments_lexer": "ipython3",
   "version": "3.6.1"
  }
 },
 "nbformat": 4,
 "nbformat_minor": 2
}
