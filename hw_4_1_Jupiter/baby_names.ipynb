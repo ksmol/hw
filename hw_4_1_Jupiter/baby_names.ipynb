{
 "cells": [
  {
   "cell_type": "markdown",
   "metadata": {},
   "source": [
    "## Код для работы со статистикой имен новорожденных в США"
   ]
  },
  {
   "cell_type": "markdown",
   "metadata": {},
   "source": [
    "**Импортируем библиотеку pandas**"
   ]
  },
  {
   "cell_type": "code",
   "execution_count": 324,
   "metadata": {
    "collapsed": true
   },
   "outputs": [],
   "source": [
    "import pandas as pd"
   ]
  },
  {
   "cell_type": "code",
   "execution_count": 333,
   "metadata": {
    "collapsed": true
   },
   "outputs": [],
   "source": [
    "DATA_PATH = 'C:/Users/Data/names/'"
   ]
  },
  {
   "cell_type": "markdown",
   "metadata": {},
   "source": [
    "*Почему-то jupiter или anaconda плохо работают с не-Ascii символами, поэтому пришлось специально создавать папку с англоязычным названием*"
   ]
  },
  {
   "cell_type": "code",
   "execution_count": 203,
   "metadata": {},
   "outputs": [],
   "source": [
    "def get_list_with_files_data(years_list):\n",
    "    cols = ['Name', 'Gender', 'Count']\n",
    "    return [pd.read_csv(DATA_PATH + 'yob' + str(year) + '.txt', names = cols) \n",
    "                             for year in years_list ]    \n",
    "    \n"
   ]
  },
  {
   "cell_type": "code",
   "execution_count": 256,
   "metadata": {},
   "outputs": [],
   "source": [
    "def count_top3_names_in_file(years_list):\n",
    "    return [key for key in pd.concat(get_list_with_files_data(years_list))\\\n",
    "                        .groupby('Name').sum()\\\n",
    "                        .sort_values(by='Count', ascending=False)\\\n",
    "                        .head(3)\\\n",
    "                        .to_dict('dict')['Count']]"
   ]
  },
  {
   "cell_type": "markdown",
   "metadata": {},
   "source": [
    "**Выводим результат работы функции по нахождению 3 наиболее популярных имен во временном периоде в виде списка:**"
   ]
  },
  {
   "cell_type": "code",
   "execution_count": 326,
   "metadata": {},
   "outputs": [
    {
     "data": {
      "text/plain": [
       "['John', 'William', 'Mary']"
      ]
     },
     "execution_count": 326,
     "metadata": {},
     "output_type": "execute_result"
    }
   ],
   "source": [
    "count_top3_names_in_file([1880])"
   ]
  },
  {
   "cell_type": "code",
   "execution_count": 330,
   "metadata": {
    "collapsed": true
   },
   "outputs": [],
   "source": [
    "def get_dict_by_gender(dictionary):\n",
    "     return {'M': [dictionary[key] for key in dictionary if key[1] == 'M'],\n",
    "             'F': [dictionary[key] for key in dictionary if key[1] == 'F']}"
   ]
  },
  {
   "cell_type": "code",
   "execution_count": 328,
   "metadata": {},
   "outputs": [],
   "source": [
    "def count_dynamics_of_names_in_file(years_list):\n",
    "    cols = ['Name', 'Gender', 'Count']\n",
    "    dict_gender_by_years = {}\n",
    "    for year in years_list:\n",
    "        dict_gender_by_years[year] = pd.read_csv(DATA_PATH + 'yob' + str(year) + '.txt', names = cols).groupby('Gender').sum()\n",
    "\n",
    "\n",
    "    return get_dict_by_gender(pd.concat(dict_gender_by_years, names = ['Year', 'Gender']).to_dict('dict')['Count'])\n"
   ]
  },
  {
   "cell_type": "markdown",
   "metadata": {},
   "source": [
    "**Выводим результат работы функции по выводу динамики изменения количества имен за периоды**"
   ]
  },
  {
   "cell_type": "code",
   "execution_count": 332,
   "metadata": {
    "scrolled": true
   },
   "outputs": [
    {
     "data": {
      "text/plain": [
       "{'F': [90992, 91953, 299810, 1713259, 1814922],\n",
       " 'M': [110491, 100743, 150486, 1790871, 1962744]}"
      ]
     },
     "execution_count": 332,
     "metadata": {},
     "output_type": "execute_result"
    }
   ],
   "source": [
    "count_dynamics_of_names_in_file([1880, 1881, 1900, 1950, 2000])\n"
   ]
  },
  {
   "cell_type": "markdown",
   "metadata": {},
   "source": [
    "*Данные не сходятся с представленными в блокноте преподавателя, но при этом, я вручную в Excel проверил итоговые суммы. Они сошлись с теми, которые являются результатами работы моего кода выше.*"
   ]
  }
 ],
 "metadata": {
  "kernelspec": {
   "display_name": "Python 3",
   "language": "python",
   "name": "python3"
  },
  "language_info": {
   "codemirror_mode": {
    "name": "ipython",
    "version": 3
   },
   "file_extension": ".py",
   "mimetype": "text/x-python",
   "name": "python",
   "nbconvert_exporter": "python",
   "pygments_lexer": "ipython3",
   "version": "3.6.1"
  }
 },
 "nbformat": 4,
 "nbformat_minor": 2
}
