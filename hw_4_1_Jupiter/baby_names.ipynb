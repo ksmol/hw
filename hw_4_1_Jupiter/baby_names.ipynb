{
 "cells": [
  {
   "cell_type": "markdown",
   "metadata": {},
   "source": [
    "## Код для работы со статистикой имен новорожденных в США"
   ]
  },
  {
   "cell_type": "markdown",
   "metadata": {},
   "source": [
    "**Импортируем библиотеку pandas**"
   ]
  },
  {
   "cell_type": "code",
   "execution_count": 1,
   "metadata": {
    "collapsed": true
   },
   "outputs": [],
   "source": [
    "import pandas as pd"
   ]
  },
  {
   "cell_type": "code",
   "execution_count": 2,
   "metadata": {
    "collapsed": true
   },
   "outputs": [],
   "source": [
    "DATA_PATH = 'C:/Users/Data/names/'"
   ]
  },
  {
   "cell_type": "markdown",
   "metadata": {},
   "source": [
    "*Почему-то jupiter или anaconda плохо работают с не-Ascii символами, поэтому пришлось специально создавать папку с англоязычным названием*"
   ]
  },
  {
   "cell_type": "code",
   "execution_count": 9,
   "metadata": {
    "collapsed": true
   },
   "outputs": [],
   "source": [
    "def read_file(year):\n",
    "    cols = ['Name', 'Gender', 'Count']\n",
    "    return pd.read_csv(\n",
    "            '{}yob{}.txt'.format(DATA_PATH, str(year)), names = cols)"
   ]
  },
  {
   "cell_type": "code",
   "execution_count": 10,
   "metadata": {
    "collapsed": true
   },
   "outputs": [],
   "source": [
    "def get_list_with_files_data(years_list):\n",
    "    return [read_file(year) for year in years_list]"
   ]
  },
  {
   "cell_type": "code",
   "execution_count": 19,
   "metadata": {
    "collapsed": true
   },
   "outputs": [],
   "source": [
    "def count_top_names_in_file(years_list, amount_of_elem):\n",
    "    return [key for key in pd.concat(get_list_with_files_data(years_list))\\\n",
    "                        .groupby('Name').sum()\\\n",
    "                        .sort_values(by='Count', ascending=False)\\\n",
    "                        .tail(amount_of_elem)\\\n",
    "                        .to_dict('dict')['Count']]"
   ]
  },
  {
   "cell_type": "markdown",
   "metadata": {},
   "source": [
    "**Выводим результат работы функции по нахождению 3 наиболее популярных имен во временном периоде в виде списка:**"
   ]
  },
  {
   "cell_type": "code",
   "execution_count": 22,
   "metadata": {},
   "outputs": [
    {
     "data": {
      "text/plain": [
       "['Sylvanus', 'Bulah', 'Duff', 'Nolie', 'Bradley']"
      ]
     },
     "execution_count": 22,
     "metadata": {},
     "output_type": "execute_result"
    }
   ],
   "source": [
    "count_top_names_in_file([1880], 5)"
   ]
  },
  {
   "cell_type": "code",
   "execution_count": 28,
   "metadata": {
    "collapsed": true
   },
   "outputs": [],
   "source": [
    "def get_dict_by_gender(analyzed_dictionary):\n",
    "     return {'M': [analyzed_dictionary[key] for key in analyzed_dictionary if key[1] == 'M'],\n",
    "             'F': [analyzed_dictionary[key] for key in analyzed_dictionary if key[1] == 'F']}"
   ]
  },
  {
   "cell_type": "code",
   "execution_count": 31,
   "metadata": {
    "collapsed": true
   },
   "outputs": [],
   "source": [
    "def count_dynamics_of_names_in_file(years_list):\n",
    "    cols = ['Name', 'Gender', 'Count']\n",
    "    dict_gender_by_years = {}\n",
    "    for year in years_list:\n",
    "        dict_gender_by_years[year] = read_file(year).groupby('Gender').sum()\n",
    "    \n",
    "    return get_dict_by_gender(pd.concat(dict_gender_by_years, names = ['Year', 'Gender'])\\\n",
    "                                    .to_dict('dict')['Count'])\n"
   ]
  },
  {
   "cell_type": "markdown",
   "metadata": {},
   "source": [
    "**Выводим результат работы функции по выводу динамики изменения количества имен за периоды**"
   ]
  },
  {
   "cell_type": "code",
   "execution_count": 32,
   "metadata": {
    "scrolled": true
   },
   "outputs": [
    {
     "data": {
      "text/plain": [
       "{'F': [299810, 1713259, 1814922], 'M': [150486, 1790871, 1962744]}"
      ]
     },
     "execution_count": 32,
     "metadata": {},
     "output_type": "execute_result"
    }
   ],
   "source": [
    "count_dynamics_of_names_in_file([1900, 1950, 2000])\n"
   ]
  },
  {
   "cell_type": "markdown",
   "metadata": {},
   "source": [
    "*Данные не сходятся с представленными в блокноте преподавателя. Проверил вручную через Excel получившиеся суммы с суммами в файлах. Все сошлось.*"
   ]
  },
  {
   "cell_type": "code",
   "execution_count": 33,
   "metadata": {
    "collapsed": true
   },
   "outputs": [],
   "source": [
    "def get_all_data_by_years(years_list, groub_by):\n",
    "    names_by_year = {}\n",
    "    cols = ['Name', 'Gender', 'Count']\n",
    "    for year in years_list:\n",
    "        names_by_year[year] = read_file(year)\n",
    "    return pd.concat(names_by_year, names = ['Year', 'Pos'])\\\n",
    "            .groupby(groub_by)\\\n",
    "            .sum()"
   ]
  },
  {
   "cell_type": "code",
   "execution_count": 36,
   "metadata": {},
   "outputs": [
    {
     "data": {
      "text/html": [
       "<div>\n",
       "<style>\n",
       "    .dataframe thead tr:only-child th {\n",
       "        text-align: right;\n",
       "    }\n",
       "\n",
       "    .dataframe thead th {\n",
       "        text-align: left;\n",
       "    }\n",
       "\n",
       "    .dataframe tbody tr th {\n",
       "        vertical-align: top;\n",
       "    }\n",
       "</style>\n",
       "<table border=\"1\" class=\"dataframe\">\n",
       "  <thead>\n",
       "    <tr style=\"text-align: right;\">\n",
       "      <th></th>\n",
       "      <th></th>\n",
       "      <th>Count</th>\n",
       "    </tr>\n",
       "    <tr>\n",
       "      <th>Year</th>\n",
       "      <th>Name</th>\n",
       "      <th></th>\n",
       "    </tr>\n",
       "  </thead>\n",
       "  <tbody>\n",
       "    <tr>\n",
       "      <th rowspan=\"5\" valign=\"top\">1880</th>\n",
       "      <th>Bradley</th>\n",
       "      <td>5</td>\n",
       "    </tr>\n",
       "    <tr>\n",
       "      <th>Bulah</th>\n",
       "      <td>5</td>\n",
       "    </tr>\n",
       "    <tr>\n",
       "      <th>Duff</th>\n",
       "      <td>5</td>\n",
       "    </tr>\n",
       "    <tr>\n",
       "      <th>Nolie</th>\n",
       "      <td>5</td>\n",
       "    </tr>\n",
       "    <tr>\n",
       "      <th>Sylvanus</th>\n",
       "      <td>5</td>\n",
       "    </tr>\n",
       "    <tr>\n",
       "      <th>1881</th>\n",
       "      <th>Bradley</th>\n",
       "      <td>10</td>\n",
       "    </tr>\n",
       "    <tr>\n",
       "      <th rowspan=\"4\" valign=\"top\">1882</th>\n",
       "      <th>Bradley</th>\n",
       "      <td>5</td>\n",
       "    </tr>\n",
       "    <tr>\n",
       "      <th>Bulah</th>\n",
       "      <td>10</td>\n",
       "    </tr>\n",
       "    <tr>\n",
       "      <th>Duff</th>\n",
       "      <td>5</td>\n",
       "    </tr>\n",
       "    <tr>\n",
       "      <th>Sylvanus</th>\n",
       "      <td>6</td>\n",
       "    </tr>\n",
       "    <tr>\n",
       "      <th rowspan=\"3\" valign=\"top\">1883</th>\n",
       "      <th>Bradley</th>\n",
       "      <td>8</td>\n",
       "    </tr>\n",
       "    <tr>\n",
       "      <th>Bulah</th>\n",
       "      <td>10</td>\n",
       "    </tr>\n",
       "    <tr>\n",
       "      <th>Sylvanus</th>\n",
       "      <td>6</td>\n",
       "    </tr>\n",
       "    <tr>\n",
       "      <th>1884</th>\n",
       "      <th>Bulah</th>\n",
       "      <td>6</td>\n",
       "    </tr>\n",
       "    <tr>\n",
       "      <th rowspan=\"3\" valign=\"top\">1885</th>\n",
       "      <th>Bradley</th>\n",
       "      <td>9</td>\n",
       "    </tr>\n",
       "    <tr>\n",
       "      <th>Bulah</th>\n",
       "      <td>14</td>\n",
       "    </tr>\n",
       "    <tr>\n",
       "      <th>Sylvanus</th>\n",
       "      <td>6</td>\n",
       "    </tr>\n",
       "  </tbody>\n",
       "</table>\n",
       "</div>"
      ],
      "text/plain": [
       "               Count\n",
       "Year Name           \n",
       "1880 Bradley       5\n",
       "     Bulah         5\n",
       "     Duff          5\n",
       "     Nolie         5\n",
       "     Sylvanus      5\n",
       "1881 Bradley      10\n",
       "1882 Bradley       5\n",
       "     Bulah        10\n",
       "     Duff          5\n",
       "     Sylvanus      6\n",
       "1883 Bradley       8\n",
       "     Bulah        10\n",
       "     Sylvanus      6\n",
       "1884 Bulah         6\n",
       "1885 Bradley       9\n",
       "     Bulah        14\n",
       "     Sylvanus      6"
      ]
     },
     "execution_count": 36,
     "metadata": {},
     "output_type": "execute_result"
    }
   ],
   "source": [
    "get_all_data_by_years(range(1880, 1886), ['Year', 'Name'])\\\n",
    "                                .query('Name == {}'.format(count_top_names_in_file([1880], 5)))"
   ]
  },
  {
   "cell_type": "code",
   "execution_count": null,
   "metadata": {
    "collapsed": true
   },
   "outputs": [],
   "source": []
  }
 ],
 "metadata": {
  "kernelspec": {
   "display_name": "Python 3",
   "language": "python",
   "name": "python3"
  },
  "language_info": {
   "codemirror_mode": {
    "name": "ipython",
    "version": 3
   },
   "file_extension": ".py",
   "mimetype": "text/x-python",
   "name": "python",
   "nbconvert_exporter": "python",
   "pygments_lexer": "ipython3",
   "version": "3.6.1"
  }
 },
 "nbformat": 4,
 "nbformat_minor": 2
}
